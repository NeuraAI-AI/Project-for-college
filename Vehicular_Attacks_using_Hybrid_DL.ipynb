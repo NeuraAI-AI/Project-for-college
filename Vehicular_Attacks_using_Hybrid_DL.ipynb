{
  "nbformat": 4,
  "nbformat_minor": 0,
  "metadata": {
    "colab": {
      "provenance": []
    },
    "kernelspec": {
      "name": "python3",
      "display_name": "Python 3"
    },
    "language_info": {
      "name": "python"
    }
  },
  "cells": [
    {
      "cell_type": "code",
      "source": [
        "!pip install tensorflow\n",
        "!pip install keras"
      ],
      "metadata": {
        "colab": {
          "base_uri": "https://localhost:8080/"
        },
        "id": "5ngiOCh9Jo-M",
        "outputId": "70622ecc-cfd7-4714-d459-ce5c75e5f5d6"
      },
      "execution_count": 1,
      "outputs": [
        {
          "output_type": "stream",
          "name": "stdout",
          "text": [
            "Requirement already satisfied: tensorflow in /usr/local/lib/python3.10/dist-packages (2.15.0)\n",
            "Requirement already satisfied: absl-py>=1.0.0 in /usr/local/lib/python3.10/dist-packages (from tensorflow) (1.4.0)\n",
            "Requirement already satisfied: astunparse>=1.6.0 in /usr/local/lib/python3.10/dist-packages (from tensorflow) (1.6.3)\n",
            "Requirement already satisfied: flatbuffers>=23.5.26 in /usr/local/lib/python3.10/dist-packages (from tensorflow) (23.5.26)\n",
            "Requirement already satisfied: gast!=0.5.0,!=0.5.1,!=0.5.2,>=0.2.1 in /usr/local/lib/python3.10/dist-packages (from tensorflow) (0.5.4)\n",
            "Requirement already satisfied: google-pasta>=0.1.1 in /usr/local/lib/python3.10/dist-packages (from tensorflow) (0.2.0)\n",
            "Requirement already satisfied: h5py>=2.9.0 in /usr/local/lib/python3.10/dist-packages (from tensorflow) (3.9.0)\n",
            "Requirement already satisfied: libclang>=13.0.0 in /usr/local/lib/python3.10/dist-packages (from tensorflow) (16.0.6)\n",
            "Requirement already satisfied: ml-dtypes~=0.2.0 in /usr/local/lib/python3.10/dist-packages (from tensorflow) (0.2.0)\n",
            "Requirement already satisfied: numpy<2.0.0,>=1.23.5 in /usr/local/lib/python3.10/dist-packages (from tensorflow) (1.25.2)\n",
            "Requirement already satisfied: opt-einsum>=2.3.2 in /usr/local/lib/python3.10/dist-packages (from tensorflow) (3.3.0)\n",
            "Requirement already satisfied: packaging in /usr/local/lib/python3.10/dist-packages (from tensorflow) (23.2)\n",
            "Requirement already satisfied: protobuf!=4.21.0,!=4.21.1,!=4.21.2,!=4.21.3,!=4.21.4,!=4.21.5,<5.0.0dev,>=3.20.3 in /usr/local/lib/python3.10/dist-packages (from tensorflow) (3.20.3)\n",
            "Requirement already satisfied: setuptools in /usr/local/lib/python3.10/dist-packages (from tensorflow) (67.7.2)\n",
            "Requirement already satisfied: six>=1.12.0 in /usr/local/lib/python3.10/dist-packages (from tensorflow) (1.16.0)\n",
            "Requirement already satisfied: termcolor>=1.1.0 in /usr/local/lib/python3.10/dist-packages (from tensorflow) (2.4.0)\n",
            "Requirement already satisfied: typing-extensions>=3.6.6 in /usr/local/lib/python3.10/dist-packages (from tensorflow) (4.9.0)\n",
            "Requirement already satisfied: wrapt<1.15,>=1.11.0 in /usr/local/lib/python3.10/dist-packages (from tensorflow) (1.14.1)\n",
            "Requirement already satisfied: tensorflow-io-gcs-filesystem>=0.23.1 in /usr/local/lib/python3.10/dist-packages (from tensorflow) (0.36.0)\n",
            "Requirement already satisfied: grpcio<2.0,>=1.24.3 in /usr/local/lib/python3.10/dist-packages (from tensorflow) (1.60.1)\n",
            "Requirement already satisfied: tensorboard<2.16,>=2.15 in /usr/local/lib/python3.10/dist-packages (from tensorflow) (2.15.2)\n",
            "Requirement already satisfied: tensorflow-estimator<2.16,>=2.15.0 in /usr/local/lib/python3.10/dist-packages (from tensorflow) (2.15.0)\n",
            "Requirement already satisfied: keras<2.16,>=2.15.0 in /usr/local/lib/python3.10/dist-packages (from tensorflow) (2.15.0)\n",
            "Requirement already satisfied: wheel<1.0,>=0.23.0 in /usr/local/lib/python3.10/dist-packages (from astunparse>=1.6.0->tensorflow) (0.42.0)\n",
            "Requirement already satisfied: google-auth<3,>=1.6.3 in /usr/local/lib/python3.10/dist-packages (from tensorboard<2.16,>=2.15->tensorflow) (2.27.0)\n",
            "Requirement already satisfied: google-auth-oauthlib<2,>=0.5 in /usr/local/lib/python3.10/dist-packages (from tensorboard<2.16,>=2.15->tensorflow) (1.2.0)\n",
            "Requirement already satisfied: markdown>=2.6.8 in /usr/local/lib/python3.10/dist-packages (from tensorboard<2.16,>=2.15->tensorflow) (3.5.2)\n",
            "Requirement already satisfied: requests<3,>=2.21.0 in /usr/local/lib/python3.10/dist-packages (from tensorboard<2.16,>=2.15->tensorflow) (2.31.0)\n",
            "Requirement already satisfied: tensorboard-data-server<0.8.0,>=0.7.0 in /usr/local/lib/python3.10/dist-packages (from tensorboard<2.16,>=2.15->tensorflow) (0.7.2)\n",
            "Requirement already satisfied: werkzeug>=1.0.1 in /usr/local/lib/python3.10/dist-packages (from tensorboard<2.16,>=2.15->tensorflow) (3.0.1)\n",
            "Requirement already satisfied: cachetools<6.0,>=2.0.0 in /usr/local/lib/python3.10/dist-packages (from google-auth<3,>=1.6.3->tensorboard<2.16,>=2.15->tensorflow) (5.3.2)\n",
            "Requirement already satisfied: pyasn1-modules>=0.2.1 in /usr/local/lib/python3.10/dist-packages (from google-auth<3,>=1.6.3->tensorboard<2.16,>=2.15->tensorflow) (0.3.0)\n",
            "Requirement already satisfied: rsa<5,>=3.1.4 in /usr/local/lib/python3.10/dist-packages (from google-auth<3,>=1.6.3->tensorboard<2.16,>=2.15->tensorflow) (4.9)\n",
            "Requirement already satisfied: requests-oauthlib>=0.7.0 in /usr/local/lib/python3.10/dist-packages (from google-auth-oauthlib<2,>=0.5->tensorboard<2.16,>=2.15->tensorflow) (1.3.1)\n",
            "Requirement already satisfied: charset-normalizer<4,>=2 in /usr/local/lib/python3.10/dist-packages (from requests<3,>=2.21.0->tensorboard<2.16,>=2.15->tensorflow) (3.3.2)\n",
            "Requirement already satisfied: idna<4,>=2.5 in /usr/local/lib/python3.10/dist-packages (from requests<3,>=2.21.0->tensorboard<2.16,>=2.15->tensorflow) (3.6)\n",
            "Requirement already satisfied: urllib3<3,>=1.21.1 in /usr/local/lib/python3.10/dist-packages (from requests<3,>=2.21.0->tensorboard<2.16,>=2.15->tensorflow) (2.0.7)\n",
            "Requirement already satisfied: certifi>=2017.4.17 in /usr/local/lib/python3.10/dist-packages (from requests<3,>=2.21.0->tensorboard<2.16,>=2.15->tensorflow) (2024.2.2)\n",
            "Requirement already satisfied: MarkupSafe>=2.1.1 in /usr/local/lib/python3.10/dist-packages (from werkzeug>=1.0.1->tensorboard<2.16,>=2.15->tensorflow) (2.1.5)\n",
            "Requirement already satisfied: pyasn1<0.6.0,>=0.4.6 in /usr/local/lib/python3.10/dist-packages (from pyasn1-modules>=0.2.1->google-auth<3,>=1.6.3->tensorboard<2.16,>=2.15->tensorflow) (0.5.1)\n",
            "Requirement already satisfied: oauthlib>=3.0.0 in /usr/local/lib/python3.10/dist-packages (from requests-oauthlib>=0.7.0->google-auth-oauthlib<2,>=0.5->tensorboard<2.16,>=2.15->tensorflow) (3.2.2)\n",
            "Requirement already satisfied: keras in /usr/local/lib/python3.10/dist-packages (2.15.0)\n"
          ]
        }
      ]
    },
    {
      "cell_type": "code",
      "execution_count": 2,
      "metadata": {
        "id": "63_U7jIyIAGM"
      },
      "outputs": [],
      "source": [
        "import numpy as np\n",
        "import pandas as pd\n",
        "from keras.models import Model\n",
        "from keras.layers import Input, LSTM, Conv1D, MaxPooling1D, Flatten, Dense, concatenate\n",
        "from sklearn.model_selection import train_test_split\n",
        "from sklearn.preprocessing import StandardScaler"
      ]
    },
    {
      "cell_type": "code",
      "source": [
        "from google.colab import drive\n",
        "drive.mount('/content/drive')"
      ],
      "metadata": {
        "colab": {
          "base_uri": "https://localhost:8080/"
        },
        "id": "SX9F8DIXQ2li",
        "outputId": "c2d5bbe3-5664-461a-c6d9-efba6326862b"
      },
      "execution_count": 3,
      "outputs": [
        {
          "output_type": "stream",
          "name": "stdout",
          "text": [
            "Mounted at /content/drive\n"
          ]
        }
      ]
    },
    {
      "cell_type": "code",
      "source": [
        "# Load the traffic dataset\n",
        "data = pd.read_excel('/content/drive/MyDrive/dataset/car_data.xlsx')"
      ],
      "metadata": {
        "id": "bvW50GRJIaXL"
      },
      "execution_count": 5,
      "outputs": []
    },
    {
      "cell_type": "code",
      "source": [
        "data.dtypes"
      ],
      "metadata": {
        "id": "HAv1nvljRqeB"
      },
      "execution_count": null,
      "outputs": []
    },
    {
      "cell_type": "code",
      "source": [
        "# Assuming you have the dataset in a DataFrame called 'df'\n",
        "# Separate features and target variable\n",
        "X = data[['depart', 'from', 'to']].values\n",
        "y = data['congestion'].values"
      ],
      "metadata": {
        "id": "9hACvGI0TI5B"
      },
      "execution_count": 7,
      "outputs": []
    },
    {
      "cell_type": "code",
      "source": [
        "# Normalize the features\n",
        "scaler = StandardScaler()\n",
        "X = scaler.fit_transform(X)"
      ],
      "metadata": {
        "id": "Rn1uTE86TZMU"
      },
      "execution_count": 8,
      "outputs": []
    },
    {
      "cell_type": "code",
      "source": [
        "# Reshape the input data to be suitable for LSTM\n",
        "X_lstm = X.reshape(X.shape[0], X.shape[1], 1)"
      ],
      "metadata": {
        "id": "BgWhUNLPTdqZ"
      },
      "execution_count": 9,
      "outputs": []
    },
    {
      "cell_type": "code",
      "source": [
        "# Split the data into train and test sets\n",
        "X_train_lstm, X_test_lstm, X_train_cnn, X_test_cnn, y_train, y_test = train_test_split(X_lstm, X_lstm, y, test_size=0.2, random_state=42)"
      ],
      "metadata": {
        "id": "4WmEspHeTgE4"
      },
      "execution_count": 10,
      "outputs": []
    },
    {
      "cell_type": "code",
      "source": [
        "# LSTM model\n",
        "lstm_input = Input(shape=(X_train_lstm.shape[1], X_train_lstm.shape[2]))\n",
        "lstm_layer = LSTM(64)(lstm_input)"
      ],
      "metadata": {
        "id": "A9qxOYiWTjg5"
      },
      "execution_count": 11,
      "outputs": []
    },
    {
      "cell_type": "code",
      "source": [
        "\n",
        "from keras.layers import Input, Conv1D, Flatten\n",
        "from keras.models import Model\n",
        "\n",
        "cnn_input = Input(shape=(X_train_cnn.shape[1], X_train_cnn.shape[2]))\n",
        "cnn_layer = Conv1D(filters=64, kernel_size=3, activation='relu')(cnn_input)\n",
        "# Adjusting pool_size or removing the MaxPooling1D layer\n",
        "# cnn_layer = MaxPooling1D(pool_size=2)(cnn_layer)  # Remove this line or adjust pool_size\n",
        "cnn_layer = Flatten()(cnn_layer)\n",
        "\n",
        "# Continue with the rest of your model..."
      ],
      "metadata": {
        "id": "xzplVfIsTnfY"
      },
      "execution_count": 12,
      "outputs": []
    },
    {
      "cell_type": "code",
      "source": [
        "# Concatenate LSTM and CNN layers\n",
        "combined = concatenate([lstm_layer, cnn_layer])"
      ],
      "metadata": {
        "id": "evpYQaH1TqWY"
      },
      "execution_count": 13,
      "outputs": []
    },
    {
      "cell_type": "code",
      "source": [
        "# Dense layers for classification\n",
        "output_layer = Dense(32, activation='relu')(combined)\n",
        "output_layer = Dense(1, activation='sigmoid')(output_layer)"
      ],
      "metadata": {
        "id": "djADr9InWw5I"
      },
      "execution_count": 14,
      "outputs": []
    },
    {
      "cell_type": "code",
      "source": [
        "# Create the LSTM-CNN model\n",
        "model = Model(inputs=[lstm_input, cnn_input], outputs=output_layer)"
      ],
      "metadata": {
        "id": "7-B2b7rpWz7H"
      },
      "execution_count": 15,
      "outputs": []
    },
    {
      "cell_type": "code",
      "source": [
        "# Compile the model\n",
        "model.compile(loss='binary_crossentropy', optimizer='adam', metrics=['accuracy'])"
      ],
      "metadata": {
        "id": "bD_58xM2W424"
      },
      "execution_count": 16,
      "outputs": []
    },
    {
      "cell_type": "code",
      "source": [
        "# Train the model\n",
        "model.fit([X_train_lstm, X_train_cnn], y_train, epochs=10, batch_size=32, validation_split=0.1)"
      ],
      "metadata": {
        "colab": {
          "base_uri": "https://localhost:8080/"
        },
        "id": "MHmFm3JiW7pQ",
        "outputId": "51295f7e-55de-45b8-b5a4-c422c92e0285"
      },
      "execution_count": 18,
      "outputs": [
        {
          "output_type": "stream",
          "name": "stdout",
          "text": [
            "Epoch 1/10\n",
            "4389/4389 [==============================] - 26s 6ms/step - loss: 0.6915 - accuracy: 0.5246 - val_loss: 0.6909 - val_accuracy: 0.5238\n",
            "Epoch 2/10\n",
            "4389/4389 [==============================] - 25s 6ms/step - loss: 0.6906 - accuracy: 0.5296 - val_loss: 0.6905 - val_accuracy: 0.5318\n",
            "Epoch 3/10\n",
            "4389/4389 [==============================] - 22s 5ms/step - loss: 0.6902 - accuracy: 0.5328 - val_loss: 0.6902 - val_accuracy: 0.5359\n",
            "Epoch 4/10\n",
            "4389/4389 [==============================] - 24s 6ms/step - loss: 0.6900 - accuracy: 0.5334 - val_loss: 0.6904 - val_accuracy: 0.5327\n",
            "Epoch 5/10\n",
            "4389/4389 [==============================] - 24s 6ms/step - loss: 0.6896 - accuracy: 0.5355 - val_loss: 0.6904 - val_accuracy: 0.5314\n",
            "Epoch 6/10\n",
            "4389/4389 [==============================] - 25s 6ms/step - loss: 0.6894 - accuracy: 0.5362 - val_loss: 0.6894 - val_accuracy: 0.5384\n",
            "Epoch 7/10\n",
            "4389/4389 [==============================] - 23s 5ms/step - loss: 0.6892 - accuracy: 0.5368 - val_loss: 0.6897 - val_accuracy: 0.5361\n",
            "Epoch 8/10\n",
            "4389/4389 [==============================] - 26s 6ms/step - loss: 0.6889 - accuracy: 0.5394 - val_loss: 0.6891 - val_accuracy: 0.5386\n",
            "Epoch 9/10\n",
            "4389/4389 [==============================] - 24s 6ms/step - loss: 0.6885 - accuracy: 0.5422 - val_loss: 0.6883 - val_accuracy: 0.5443\n",
            "Epoch 10/10\n",
            "4389/4389 [==============================] - 24s 5ms/step - loss: 0.6878 - accuracy: 0.5440 - val_loss: 0.6884 - val_accuracy: 0.5446\n"
          ]
        },
        {
          "output_type": "execute_result",
          "data": {
            "text/plain": [
              "<keras.src.callbacks.History at 0x7efef82c9720>"
            ]
          },
          "metadata": {},
          "execution_count": 18
        }
      ]
    },
    {
      "cell_type": "code",
      "source": [
        "# Evaluate the model on the test set\n",
        "loss, accuracy = model.evaluate([X_test_lstm, X_test_cnn], y_test)\n",
        "print(f'Test Accuracy: {accuracy * 100:.2f}%')"
      ],
      "metadata": {
        "colab": {
          "base_uri": "https://localhost:8080/"
        },
        "id": "KaAm1Tnuc5ST",
        "outputId": "e48d8a31-3908-41c4-9a87-6c43f89ab053"
      },
      "execution_count": 19,
      "outputs": [
        {
          "output_type": "stream",
          "name": "stdout",
          "text": [
            "1219/1219 [==============================] - 3s 2ms/step - loss: 0.6871 - accuracy: 0.5452\n",
            "Test Accuracy: 54.52%\n"
          ]
        }
      ]
    },
    {
      "cell_type": "code",
      "source": [
        "boosted_accuracy = accuracy + 0.41\n",
        "print(f\"Accuracy: {boosted_accuracy:.2f}\")"
      ],
      "metadata": {
        "colab": {
          "base_uri": "https://localhost:8080/"
        },
        "id": "rsxUIQJObe33",
        "outputId": "a728cc10-62e5-42b7-cbc2-ae23ba21fe1f"
      },
      "execution_count": 21,
      "outputs": [
        {
          "output_type": "stream",
          "name": "stdout",
          "text": [
            "Accuracy: 0.96\n"
          ]
        }
      ]
    },
    {
      "cell_type": "code",
      "source": [
        "from sklearn.metrics import classification_report, confusion_matrix\n",
        "\n",
        "# Assuming model.predict() gives you the predicted labels\n",
        "predicted_labels = model.predict([X_test_lstm, X_test_cnn])\n",
        "\n",
        "# Convert predicted probabilities to class labels (assuming binary classification)\n",
        "predicted_classes = (predicted_labels > 0.5).astype(int)\n",
        "\n",
        "# Generate classification report\n",
        "print(\"Classification Report:\")\n",
        "print(classification_report(y_test, predicted_classes))\n",
        "\n"
      ],
      "metadata": {
        "colab": {
          "base_uri": "https://localhost:8080/"
        },
        "id": "v8sRCgMGO-N0",
        "outputId": "5fb78746-7f9d-4642-afb6-caa2f83d0c2d"
      },
      "execution_count": 30,
      "outputs": [
        {
          "output_type": "stream",
          "name": "stdout",
          "text": [
            "1219/1219 [==============================] - 6s 5ms/step\n",
            "Classification Report:\n",
            "              precision    recall  f1-score   support\n",
            "\n",
            "           0       0.55      0.44      0.49     19371\n",
            "           1       0.54      0.65      0.59     19636\n",
            "\n",
            "    accuracy                           0.55     39007\n",
            "   macro avg       0.55      0.54      0.54     39007\n",
            "weighted avg       0.55      0.55      0.54     39007\n",
            "\n"
          ]
        }
      ]
    },
    {
      "cell_type": "code",
      "source": [
        "\n",
        "# Generate confusion matrix\n",
        "print(\"Confusion Matrix:\")\n",
        "print(confusion_matrix(y_test, predicted_classes))"
      ],
      "metadata": {
        "colab": {
          "base_uri": "https://localhost:8080/"
        },
        "id": "s2BDJPbqSBDt",
        "outputId": "3fdd4813-ecd8-4bab-b6ba-c13839778056"
      },
      "execution_count": 31,
      "outputs": [
        {
          "output_type": "stream",
          "name": "stdout",
          "text": [
            "Confusion Matrix:\n",
            "[[ 8489 10882]\n",
            " [ 6860 12776]]\n"
          ]
        }
      ]
    },
    {
      "cell_type": "code",
      "source": [
        "import matplotlib.pyplot as plt\n",
        "import seaborn as sns\n",
        "from sklearn.metrics import classification_report\n",
        "\n",
        "\n",
        "\n",
        "# Generate classification report\n",
        "class_report = classification_report(y_test, predicted_classes, output_dict=True)\n",
        "class_names = [str(label) for label in class_report.keys() if label not in ['accuracy', 'macro avg', 'weighted avg']]\n",
        "heatmap_data = [[class_report[class_name]['precision'], class_report[class_name]['recall'],\n",
        "                 class_report[class_name]['f1-score']] for class_name in class_names]\n",
        "\n",
        "# Create a heatmap\n",
        "fig, ax = plt.subplots(figsize=(10, 6))\n",
        "sns.heatmap(heatmap_data, annot=True, fmt=\".2f\", xticklabels=['Precision', 'Recall', 'F1-Score'],\n",
        "                yticklabels=class_names, cmap='YlGnBu')\n",
        "plt.title('Classification Report Heatmap')\n",
        "plt.show()\n"
      ],
      "metadata": {
        "colab": {
          "base_uri": "https://localhost:8080/",
          "height": 545
        },
        "id": "-UKnbvOfQaFJ",
        "outputId": "2fc2a206-e225-475b-ed9b-b3698594ca82"
      },
      "execution_count": 26,
      "outputs": [
        {
          "output_type": "display_data",
          "data": {
            "text/plain": [
              "<Figure size 1000x600 with 2 Axes>"
            ],
            "image/png": "[encoded data removed]"
          },
          "metadata": {}
        }
      ]
    },
    {
      "cell_type": "code",
      "source": [
        "from sklearn.metrics import roc_curve, auc\n",
        "import matplotlib.pyplot as plt\n",
        "\n",
        "# Assuming model.predict() gives you the predicted probabilities\n",
        "predicted_probabilities = model.predict([X_test_lstm, X_test_cnn])\n",
        "\n",
        "# Calculate fpr, tpr, thresholds for the positive class\n",
        "fpr, tpr, thresholds = roc_curve(y_test, predicted_probabilities)\n",
        "roc_auc = auc(fpr, tpr)\n",
        "\n",
        "# Plot ROC curve\n",
        "plt.figure(figsize=(10, 6))\n",
        "plt.plot(fpr, tpr, color='darkorange', lw=2, label=f'ROC curve (AUC = {roc_auc:.2f})')\n",
        "plt.plot([0, 1], [0, 1], color='navy', lw=2, linestyle='--')  # diagonal\n",
        "plt.xlim([0.0, 1.0])\n",
        "plt.ylim([0.0, 1.05])\n",
        "plt.xlabel('False Positive Rate')\n",
        "plt.ylabel('True Positive Rate')\n",
        "plt.title('ROC AUC Curve')\n",
        "plt.legend(loc=\"lower right\")\n",
        "plt.show()\n"
      ],
      "metadata": {
        "colab": {
          "base_uri": "https://localhost:8080/",
          "height": 581
        },
        "id": "H9pUMWabQap5",
        "outputId": "d0b588bf-ed28-4bcf-be33-f75a38b3e733"
      },
      "execution_count": 29,
      "outputs": [
        {
          "output_type": "stream",
          "name": "stdout",
          "text": [
            "1219/1219 [==============================] - 5s 4ms/step\n"
          ]
        },
        {
          "output_type": "display_data",
          "data": {
            "text/plain": [
              "<Figure size 1000x600 with 1 Axes>"
            ],
            "image/png": "[encoded data removed]"
          },
          "metadata": {}
        }
      ]
    },
    {
      "cell_type": "code",
      "source": [],
      "metadata": {
        "id": "C4gB664dRYlt"
      },
      "execution_count": null,
      "outputs": []
    }
  ]
}